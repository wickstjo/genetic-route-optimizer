{
 "cells": [
  {
   "cell_type": "code",
   "execution_count": 6,
   "metadata": {},
   "outputs": [],
   "source": [
    "import numpy as np\n",
    "import pandas as pd\n",
    "import plotly.graph_objs as go"
   ]
  },
  {
   "cell_type": "code",
   "execution_count": 3,
   "metadata": {},
   "outputs": [],
   "source": [
    "def load_csv(path):\n",
    "    return pd.read_csv(path)"
   ]
  },
  {
   "cell_type": "code",
   "execution_count": 4,
   "metadata": {},
   "outputs": [],
   "source": [
    "def to_matrix(dataframe):\n",
    "    return dataframe.to_numpy()"
   ]
  },
  {
   "cell_type": "code",
   "execution_count": 5,
   "metadata": {},
   "outputs": [],
   "source": [
    "def visualize(data):\n",
    "\n",
    "    # PLACEHOLDER CONTAINER\n",
    "    structure = []\n",
    "    \n",
    "    # LINE COLOURS\n",
    "    colours = ['#e75f5b', '#52af52', '#f2ae42']\n",
    "    \n",
    "    # CREATE LINE FOR EACH COLUMN IN THE DATAFRAME\n",
    "    for index, row in enumerate(data):\n",
    "        structure.append(go.Scatter(\n",
    "            mode='markers',\n",
    "            y=row,\n",
    "            line=dict(width=1),\n",
    "            marker=dict(color=colours[index]),\n",
    "            opacity=0.8,\n",
    "            yaxis='y2',\n",
    "            name='GENERATION #' + str(index + 1)\n",
    "        ))\n",
    "\n",
    "    # LAYOUT PARAMS\n",
    "    layout = go.Layout(\n",
    "        yaxis = dict(domain = [0, 0.2],\n",
    "        showticklabels=False),\n",
    "        margin=dict(l=20, r=20, t=20, b=20)\n",
    "    )\n",
    "    \n",
    "    # CREATE THE FIGURE\n",
    "    fig = go.Figure(\n",
    "        data=structure,\n",
    "        layout=layout\n",
    "    )\n",
    "    \n",
    "    # ADD BUTTON MAP\n",
    "    fig.update_layout(\n",
    "        xaxis=dict(\n",
    "            rangeslider=dict(\n",
    "                visible=True\n",
    "            )\n",
    "        )\n",
    "    )\n",
    "    \n",
    "    # FINALLY SHOW THE GRAPH\n",
    "    fig.show()"
   ]
  },
  {
   "cell_type": "code",
   "execution_count": null,
   "metadata": {},
   "outputs": [],
   "source": []
  }
 ],
 "metadata": {
  "kernelspec": {
   "display_name": "Python 3",
   "language": "python",
   "name": "python3"
  },
  "language_info": {
   "codemirror_mode": {
    "name": "ipython",
    "version": 3
   },
   "file_extension": ".py",
   "mimetype": "text/x-python",
   "name": "python",
   "nbconvert_exporter": "python",
   "pygments_lexer": "ipython3",
   "version": "3.7.9"
  }
 },
 "nbformat": 4,
 "nbformat_minor": 4
}
