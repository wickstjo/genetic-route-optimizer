{
 "cells": [
  {
   "cell_type": "code",
   "execution_count": 17,
   "metadata": {},
   "outputs": [],
   "source": [
    "import numpy as np\n",
    "import random\n",
    "import math"
   ]
  },
  {
   "cell_type": "code",
   "execution_count": 18,
   "metadata": {},
   "outputs": [],
   "source": [
    "import ipynb.fs.full.pmx as pmx"
   ]
  },
  {
   "cell_type": "markdown",
   "metadata": {},
   "source": [
    "### SHUFFLE NODES INTO PARENTS"
   ]
  },
  {
   "cell_type": "code",
   "execution_count": 1,
   "metadata": {},
   "outputs": [],
   "source": [
    "def shuffle(nodes):\n",
    "    \n",
    "    # CONVERT TO ARRAY & SHUFFLE\n",
    "    converted = list(nodes)\n",
    "    random.shuffle(converted)\n",
    "    \n",
    "    return converted"
   ]
  },
  {
   "cell_type": "code",
   "execution_count": 2,
   "metadata": {},
   "outputs": [],
   "source": [
    "def create_parents(nodes, amount):\n",
    "    container = []\n",
    "    \n",
    "    # CREATE X NUMBER OF PARENTS\n",
    "    for i in range(amount):\n",
    "        new_order = shuffle(nodes)\n",
    "        container.append(new_order)\n",
    "\n",
    "    return container"
   ]
  },
  {
   "cell_type": "markdown",
   "metadata": {},
   "source": [
    "### CALCULATE PARENT FITNESS"
   ]
  },
  {
   "cell_type": "code",
   "execution_count": 5,
   "metadata": {},
   "outputs": [],
   "source": [
    "def parent_fitness(nodes, distance_table):\n",
    "    scores = []\n",
    "    \n",
    "    # CALCULATE EACH NODES DISTANCE\n",
    "    for index,nodes in enumerate(nodes):\n",
    "        score = calc_fitness(nodes, distance_table)\n",
    "        scores.append(score)\n",
    "    \n",
    "    return scores"
   ]
  },
  {
   "cell_type": "code",
   "execution_count": 6,
   "metadata": {},
   "outputs": [],
   "source": [
    "def calc_fitness(nodes, distance_table):\n",
    "    score = 0\n",
    "    \n",
    "    # LOOP THROUGH EACH NODE\n",
    "    for index, node in enumerate(nodes):\n",
    "        \n",
    "        # IF IT IS THE LAST INDEX, CIRCLE BACK TO THE FIRST\n",
    "        if index + 1 == len(nodes):\n",
    "            score += distance_table[node][nodes[0]]\n",
    "            \n",
    "        # OTHERWISE, APPEND NORMALLY\n",
    "        else:\n",
    "            score += distance_table[node][nodes[index + 1]]\n",
    "            \n",
    "    return score"
   ]
  },
  {
   "cell_type": "markdown",
   "metadata": {},
   "source": [
    "### CALCULATE FITNESS WEIGHTING"
   ]
  },
  {
   "cell_type": "code",
   "execution_count": 9,
   "metadata": {},
   "outputs": [],
   "source": [
    "def parent_weighting(fitness_scores):\n",
    "    weights = []\n",
    "    percent_weights = []\n",
    "    weight_sum = 0\n",
    "    \n",
    "    # CALCULATE WEIGHT BASED ON FITNESS\n",
    "    for fitness in fitness_scores:\n",
    "        score = 1 / (1 + fitness)\n",
    "        weights.append(score)\n",
    "        weight_sum += score\n",
    "    \n",
    "    # CALCULATE PERCENTAGE WEIGHT\n",
    "    for weight in weights:\n",
    "        score = weight / weight_sum\n",
    "        percent_weights.append(score)\n",
    "        \n",
    "    return percent_weights"
   ]
  },
  {
   "cell_type": "markdown",
   "metadata": {},
   "source": [
    "### GENERATE PARENT PAIRS"
   ]
  },
  {
   "cell_type": "code",
   "execution_count": 12,
   "metadata": {},
   "outputs": [],
   "source": [
    "def select_one(weighting, block_choice=np.inf):\n",
    "    choice = np.random.choice(len(weighting), p=weighting)\n",
    "    \n",
    "    # RUN UNTIL A NON-BLOCKED VALUE IS GENERATED\n",
    "    while choice == block_choice:\n",
    "        choice = np.random.choice(len(weighting), p=weighting)\n",
    "        \n",
    "    return choice"
   ]
  },
  {
   "cell_type": "code",
   "execution_count": 13,
   "metadata": {},
   "outputs": [],
   "source": [
    "def generate_pairs(population, weighting):\n",
    "    pairs = []\n",
    "    \n",
    "    # HOW MANY PAIRS ARE NEEDED\n",
    "    pair_count = int(len(population) / 2)\n",
    "    \n",
    "    # LOOP THROUGH POPULATION\n",
    "    for index in range(pair_count):\n",
    "        first = select_one(weighting)\n",
    "        second = select_one(weighting, first)\n",
    "        \n",
    "        # APPEND BOTH PARENT ARRAYS\n",
    "        pairs.append([\n",
    "            population[first],\n",
    "            population[second]\n",
    "        ])\n",
    "    \n",
    "    return pairs"
   ]
  },
  {
   "cell_type": "markdown",
   "metadata": {},
   "source": [
    "### GENERATE CHILDREN WITH PMX"
   ]
  },
  {
   "cell_type": "code",
   "execution_count": 14,
   "metadata": {},
   "outputs": [],
   "source": [
    "def generate_children(parent_pairs):\n",
    "    container = []\n",
    "\n",
    "    # GENERATE RANDOM CROSSOVER RANGE\n",
    "    crossover_range = breakpoint_generator(parent_pairs)\n",
    "    \n",
    "    # LOOP THROUGH EACH PARENT PAIR\n",
    "    for pair in parent_pairs:\n",
    "        \n",
    "        # GENERATE TWO CHILDREN\n",
    "        child_1, child_2 = pmx.pmx_crossover(pair[0], pair[1], crossover_range)\n",
    "        \n",
    "        # APPEND THEM TO THE CONTAINER\n",
    "        container.append(child_1)\n",
    "        container.append(child_2)\n",
    "        \n",
    "    return container"
   ]
  },
  {
   "cell_type": "code",
   "execution_count": 15,
   "metadata": {},
   "outputs": [],
   "source": [
    "def breakpoint_generator(pairs):\n",
    "\n",
    "    # CHECK THE MAXIMUM PARENT SIZE\n",
    "    size = len(pairs[0][0])\n",
    "    \n",
    "    # SPLIT INTO HALVES\n",
    "    first_half = math.floor(size / 2)\n",
    "    second_half = size - first_half\n",
    "    \n",
    "    # RANDOMLY CHOOSE AN INDEX FROM BOTH HALVES\n",
    "    first = random.randint(0, first_half)\n",
    "    second = random.randint(second_half, size - 1)\n",
    "    \n",
    "    return [first, second]"
   ]
  },
  {
   "cell_type": "code",
   "execution_count": null,
   "metadata": {},
   "outputs": [],
   "source": []
  }
 ],
 "metadata": {
  "kernelspec": {
   "display_name": "Python 3",
   "language": "python",
   "name": "python3"
  },
  "language_info": {
   "codemirror_mode": {
    "name": "ipython",
    "version": 3
   },
   "file_extension": ".py",
   "mimetype": "text/x-python",
   "name": "python",
   "nbconvert_exporter": "python",
   "pygments_lexer": "ipython3",
   "version": "3.7.9"
  }
 },
 "nbformat": 4,
 "nbformat_minor": 4
}
