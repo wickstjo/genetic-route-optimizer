{
 "cells": [
  {
   "cell_type": "code",
   "execution_count": 1,
   "metadata": {},
   "outputs": [],
   "source": [
    "import numpy as np"
   ]
  },
  {
   "cell_type": "code",
   "execution_count": 2,
   "metadata": {},
   "outputs": [],
   "source": [
    "import plotly.graph_objs as go"
   ]
  },
  {
   "cell_type": "markdown",
   "metadata": {},
   "source": [
    "### ASSIGNMENT VALUES & OPTIONS"
   ]
  },
  {
   "cell_type": "code",
   "execution_count": 3,
   "metadata": {},
   "outputs": [],
   "source": [
    "values = {\n",
    "    '1a': 3, '1b': 8, '1c': 9,\n",
    "    '2a': 3, '2b': 3, '2c': 9,\n",
    "    '3a': 7, '3b': 6, '3c': 8,\n",
    "    '4a': 9, '4b': 7, '4c': 3,\n",
    "    '5a': 9, '5b': 6, '5c': 4,\n",
    "}"
   ]
  },
  {
   "cell_type": "code",
   "execution_count": 4,
   "metadata": {},
   "outputs": [],
   "source": [
    "options = ['a', 'b', 'c']"
   ]
  },
  {
   "cell_type": "markdown",
   "metadata": {},
   "source": [
    "### CREATE PARENT GENERATION"
   ]
  },
  {
   "cell_type": "code",
   "execution_count": 5,
   "metadata": {},
   "outputs": [],
   "source": [
    "def create_parent():\n",
    "    parents = []\n",
    "    max_length = int(len(values) / len(options))\n",
    "    \n",
    "    for index in range(max_length):\n",
    "        choice = np.random.choice(options)\n",
    "        parents.append(choice)\n",
    "        \n",
    "    return parents"
   ]
  },
  {
   "cell_type": "markdown",
   "metadata": {},
   "source": [
    "### CREATE PARENT POPULATION"
   ]
  },
  {
   "cell_type": "code",
   "execution_count": 6,
   "metadata": {},
   "outputs": [],
   "source": [
    "def create_population(amount):\n",
    "    population = []\n",
    "    \n",
    "    for index in range(amount):\n",
    "        parent = create_parent()\n",
    "        population.append(parent)\n",
    "    \n",
    "    return population"
   ]
  },
  {
   "cell_type": "markdown",
   "metadata": {},
   "source": [
    "### CALCULATE POPULATION FITNESS"
   ]
  },
  {
   "cell_type": "code",
   "execution_count": 7,
   "metadata": {},
   "outputs": [],
   "source": [
    "def population_fitness(population):\n",
    "    fitness_scores = []\n",
    "    \n",
    "    # LOOP THROUGH PARENTS\n",
    "    for parent in population:\n",
    "        fitness = 0\n",
    "        \n",
    "        # LOOP THROUGH PARENT VALUES\n",
    "        for index, value in enumerate(parent):\n",
    "            header = str(index + 1) + value\n",
    "            fitness += values[header]\n",
    "\n",
    "        # ADD 'A' PENALTY\n",
    "        if parent.count('a') > 0:\n",
    "            fitness += 7\n",
    "\n",
    "        # ADD 'B' PENALTY\n",
    "        if parent.count('b') > 0:\n",
    "            fitness += 5\n",
    "\n",
    "        # ADD 'C' PENALTY\n",
    "        if parent.count('c') > 0:\n",
    "            fitness += 7\n",
    "        \n",
    "        # APPEND FITNESS TO CONTAINER\n",
    "        fitness_scores.append(fitness)\n",
    "        \n",
    "    return fitness_scores"
   ]
  },
  {
   "cell_type": "markdown",
   "metadata": {},
   "source": [
    "### CALCULATE WEIGHT"
   ]
  },
  {
   "cell_type": "code",
   "execution_count": 8,
   "metadata": {},
   "outputs": [],
   "source": [
    "def natural_selection(fitness_scores):\n",
    "    weights = []\n",
    "    percent_weights = []\n",
    "    weight_sum = 0\n",
    "    \n",
    "    # CALCULATE WEIGHT BASED ON FITNESS\n",
    "    for fitness in fitness_scores:\n",
    "        score = 1/(1 + fitness)\n",
    "        weights.append(score)\n",
    "        weight_sum += score\n",
    "    \n",
    "    # CALCULATE PERCENTAGE WEIGHT\n",
    "    for weight in weights:\n",
    "        score = weight / weight_sum\n",
    "        percent_weights.append(score)\n",
    "        \n",
    "    return percent_weights"
   ]
  },
  {
   "cell_type": "markdown",
   "metadata": {},
   "source": [
    "### CREATE PARENT PAIRS"
   ]
  },
  {
   "cell_type": "code",
   "execution_count": 9,
   "metadata": {},
   "outputs": [],
   "source": [
    "def select_one(weighting, block_choice=np.inf):\n",
    "    choice = np.random.choice(len(weighting), p=weighting)\n",
    "    \n",
    "    # RUN UNTIL A NON-BLOCKED VALUE IS GENERATED\n",
    "    while choice == block_choice:\n",
    "        choice = np.random.choice(len(weighting), p=weighting)\n",
    "        \n",
    "    return choice"
   ]
  },
  {
   "cell_type": "code",
   "execution_count": 10,
   "metadata": {},
   "outputs": [],
   "source": [
    "def generate_pairs(population, weighting):\n",
    "    pairs = []\n",
    "    \n",
    "    # LOOP THROUGH POPULATION\n",
    "    for index in range(len(population)):\n",
    "        first = select_one(weighting)\n",
    "        second = select_one(weighting, first)\n",
    "        \n",
    "        pairs.append([\n",
    "            population[first],\n",
    "            population[second]\n",
    "        ])\n",
    "    \n",
    "    return pairs"
   ]
  },
  {
   "cell_type": "markdown",
   "metadata": {},
   "source": [
    "### CREATE CHILDREN"
   ]
  },
  {
   "cell_type": "code",
   "execution_count": 11,
   "metadata": {},
   "outputs": [],
   "source": [
    "def create_children(pairs, breakpoint):\n",
    "    collection = []\n",
    "    \n",
    "    # COMBINE PARENT GENES TO CREATE A CHILD\n",
    "    for pair in pairs:\n",
    "        first = pair[0][0:breakpoint]\n",
    "        second = pair[1][breakpoint:]\n",
    "        \n",
    "        child = first + second\n",
    "        collection.append(child)\n",
    "        \n",
    "    return collection"
   ]
  },
  {
   "cell_type": "markdown",
   "metadata": {},
   "source": [
    "### MUTATE CHILDREN"
   ]
  },
  {
   "cell_type": "code",
   "execution_count": 12,
   "metadata": {},
   "outputs": [],
   "source": [
    "def mutate_children(children, mutation_chance):\n",
    "    collection = []\n",
    "    \n",
    "    # LOOP THROUGH CHILDREN\n",
    "    for child in children:\n",
    "        child_list = []\n",
    "        \n",
    "        # LOOP THROUGH CHILD VALUES\n",
    "        for value in child:\n",
    "            \n",
    "            # GENERATE A RANDOM NUMBER BETWEEN 0 AND 1\n",
    "            roll = np.random.random()\n",
    "            \n",
    "            # IF THE NUMBER IS WITHIN RANGE, MUTATE\n",
    "            if roll <= mutation_chance:\n",
    "                mutated = np.random.choice(options)\n",
    "                child_list.append(mutated)\n",
    "            \n",
    "            # OTHERWISE, APPEND SAME VALUE\n",
    "            else:\n",
    "                child_list.append(value)\n",
    "                \n",
    "        # APPEND TO COLLECTION\n",
    "        collection.append(child_list)\n",
    "    \n",
    "    return collection"
   ]
  },
  {
   "cell_type": "markdown",
   "metadata": {},
   "source": [
    "### CREATE NEXT GENERATION"
   ]
  },
  {
   "cell_type": "code",
   "execution_count": 13,
   "metadata": {},
   "outputs": [],
   "source": [
    "def next_generation(population, gene_split, mutation_chance):\n",
    "    \n",
    "    # ASSESS FITNESS VALUES & THEIR WEIGHT\n",
    "    fitness_values = population_fitness(population)\n",
    "    parent_weighting = natural_selection(fitness_values)\n",
    "\n",
    "    # CREATE PARENT PAIRS & GENERATE CHILDREN\n",
    "    pairs = generate_pairs(population, parent_weighting)\n",
    "    children = create_children(pairs, gene_split)\n",
    "\n",
    "    # MUTATE THE CHILDREN\n",
    "    mutated = mutate_children(children, mutation_chance)\n",
    "    \n",
    "    return mutated, min(fitness_values)"
   ]
  },
  {
   "cell_type": "markdown",
   "metadata": {},
   "source": [
    "### RUN FOR ITERATIONS"
   ]
  },
  {
   "cell_type": "code",
   "execution_count": 14,
   "metadata": {},
   "outputs": [],
   "source": [
    "def process(iterations, population, gene_inheritance, mutation_chance):\n",
    "    populations = []\n",
    "    scores = []\n",
    "    \n",
    "    for index in range(iterations):\n",
    "        population, best = next_generation(population, gene_inheritance, mutation_chance)\n",
    "        \n",
    "        populations.append(population)\n",
    "        scores.append(best)\n",
    "        \n",
    "    return populations, scores"
   ]
  },
  {
   "cell_type": "markdown",
   "metadata": {},
   "source": [
    "### FIRST GENESIS"
   ]
  },
  {
   "cell_type": "code",
   "execution_count": 16,
   "metadata": {},
   "outputs": [],
   "source": [
    "genesis_population_1 = create_population(5)"
   ]
  },
  {
   "cell_type": "code",
   "execution_count": 17,
   "metadata": {
    "scrolled": true
   },
   "outputs": [
    {
     "data": {
      "text/plain": [
       "[['b', 'a', 'b', 'b', 'b'],\n",
       " ['c', 'a', 'b', 'a', 'a'],\n",
       " ['a', 'c', 'c', 'b', 'b'],\n",
       " ['a', 'a', 'b', 'c', 'a'],\n",
       " ['a', 'b', 'c', 'b', 'b']]"
      ]
     },
     "execution_count": 17,
     "metadata": {},
     "output_type": "execute_result"
    }
   ],
   "source": [
    "genesis_population_1"
   ]
  },
  {
   "cell_type": "code",
   "execution_count": 18,
   "metadata": {
    "scrolled": false
   },
   "outputs": [],
   "source": [
    "populations_1, scores_1 = process(**{\n",
    "    'iterations': 300,\n",
    "    'population': genesis_population_1,\n",
    "    'gene_inheritance': 3,\n",
    "    'mutation_chance': 0.05\n",
    "})"
   ]
  },
  {
   "cell_type": "code",
   "execution_count": null,
   "metadata": {},
   "outputs": [],
   "source": []
  }
 ],
 "metadata": {
  "kernelspec": {
   "display_name": "Python 3",
   "language": "python",
   "name": "python3"
  },
  "language_info": {
   "codemirror_mode": {
    "name": "ipython",
    "version": 3
   },
   "file_extension": ".py",
   "mimetype": "text/x-python",
   "name": "python",
   "nbconvert_exporter": "python",
   "pygments_lexer": "ipython3",
   "version": "3.7.9"
  }
 },
 "nbformat": 4,
 "nbformat_minor": 4
}
