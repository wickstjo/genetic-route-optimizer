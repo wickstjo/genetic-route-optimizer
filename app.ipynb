{
 "cells": [
  {
   "cell_type": "code",
   "execution_count": 1,
   "metadata": {},
   "outputs": [],
   "source": [
    "import numpy as np"
   ]
  },
  {
   "cell_type": "code",
   "execution_count": 2,
   "metadata": {},
   "outputs": [],
   "source": [
    "import ipynb.fs.full.pmx as pmx\n",
    "import ipynb.fs.full.utils as utils\n",
    "import ipynb.fs.full.ga as ga"
   ]
  },
  {
   "cell_type": "markdown",
   "metadata": {},
   "source": [
    "### LOAD CSV"
   ]
  },
  {
   "cell_type": "code",
   "execution_count": 3,
   "metadata": {},
   "outputs": [],
   "source": [
    "dataframe = utils.load_csv('distance_table.csv')"
   ]
  },
  {
   "cell_type": "code",
   "execution_count": 4,
   "metadata": {},
   "outputs": [
    {
     "data": {
      "text/html": [
       "<div>\n",
       "<style scoped>\n",
       "    .dataframe tbody tr th:only-of-type {\n",
       "        vertical-align: middle;\n",
       "    }\n",
       "\n",
       "    .dataframe tbody tr th {\n",
       "        vertical-align: top;\n",
       "    }\n",
       "\n",
       "    .dataframe thead th {\n",
       "        text-align: right;\n",
       "    }\n",
       "</style>\n",
       "<table border=\"1\" class=\"dataframe\">\n",
       "  <thead>\n",
       "    <tr style=\"text-align: right;\">\n",
       "      <th></th>\n",
       "      <th>helsinki</th>\n",
       "      <th>espoo</th>\n",
       "      <th>tampere</th>\n",
       "      <th>vantaa</th>\n",
       "      <th>oulu</th>\n",
       "      <th>turku</th>\n",
       "      <th>kotka</th>\n",
       "      <th>lahti</th>\n",
       "      <th>kuopio</th>\n",
       "      <th>pori</th>\n",
       "      <th>kouvola</th>\n",
       "      <th>joensuu</th>\n",
       "      <th>lappeenranta</th>\n",
       "      <th>mikkeli</th>\n",
       "      <th>vaasa</th>\n",
       "    </tr>\n",
       "  </thead>\n",
       "  <tbody>\n",
       "    <tr>\n",
       "      <th>helsinki</th>\n",
       "      <td>0</td>\n",
       "      <td>16</td>\n",
       "      <td>160</td>\n",
       "      <td>15</td>\n",
       "      <td>539</td>\n",
       "      <td>150</td>\n",
       "      <td>114</td>\n",
       "      <td>99</td>\n",
       "      <td>336</td>\n",
       "      <td>225</td>\n",
       "      <td>124</td>\n",
       "      <td>373</td>\n",
       "      <td>203</td>\n",
       "      <td>211</td>\n",
       "      <td>370</td>\n",
       "    </tr>\n",
       "    <tr>\n",
       "      <th>espoo</th>\n",
       "      <td>16</td>\n",
       "      <td>0</td>\n",
       "      <td>151</td>\n",
       "      <td>24</td>\n",
       "      <td>536</td>\n",
       "      <td>134</td>\n",
       "      <td>128</td>\n",
       "      <td>103</td>\n",
       "      <td>339</td>\n",
       "      <td>211</td>\n",
       "      <td>134</td>\n",
       "      <td>381</td>\n",
       "      <td>215</td>\n",
       "      <td>217</td>\n",
       "      <td>359</td>\n",
       "    </tr>\n",
       "    <tr>\n",
       "      <th>tampere</th>\n",
       "      <td>160</td>\n",
       "      <td>151</td>\n",
       "      <td>0</td>\n",
       "      <td>150</td>\n",
       "      <td>400</td>\n",
       "      <td>142</td>\n",
       "      <td>204</td>\n",
       "      <td>116</td>\n",
       "      <td>254</td>\n",
       "      <td>106</td>\n",
       "      <td>171</td>\n",
       "      <td>335</td>\n",
       "      <td>240</td>\n",
       "      <td>186</td>\n",
       "      <td>210</td>\n",
       "    </tr>\n",
       "    <tr>\n",
       "      <th>vantaa</th>\n",
       "      <td>15</td>\n",
       "      <td>24</td>\n",
       "      <td>150</td>\n",
       "      <td>0</td>\n",
       "      <td>525</td>\n",
       "      <td>153</td>\n",
       "      <td>105</td>\n",
       "      <td>84</td>\n",
       "      <td>321</td>\n",
       "      <td>220</td>\n",
       "      <td>111</td>\n",
       "      <td>359</td>\n",
       "      <td>191</td>\n",
       "      <td>196</td>\n",
       "      <td>360</td>\n",
       "    </tr>\n",
       "    <tr>\n",
       "      <th>oulu</th>\n",
       "      <td>539</td>\n",
       "      <td>536</td>\n",
       "      <td>400</td>\n",
       "      <td>525</td>\n",
       "      <td>0</td>\n",
       "      <td>533</td>\n",
       "      <td>511</td>\n",
       "      <td>448</td>\n",
       "      <td>259</td>\n",
       "      <td>433</td>\n",
       "      <td>465</td>\n",
       "      <td>341</td>\n",
       "      <td>460</td>\n",
       "      <td>380</td>\n",
       "      <td>284</td>\n",
       "    </tr>\n",
       "  </tbody>\n",
       "</table>\n",
       "</div>"
      ],
      "text/plain": [
       "          helsinki  espoo  tampere  vantaa  oulu  turku  kotka  lahti  kuopio  \\\n",
       "helsinki         0     16      160      15   539    150    114     99     336   \n",
       "espoo           16      0      151      24   536    134    128    103     339   \n",
       "tampere        160    151        0     150   400    142    204    116     254   \n",
       "vantaa          15     24      150       0   525    153    105     84     321   \n",
       "oulu           539    536      400     525     0    533    511    448     259   \n",
       "\n",
       "          pori  kouvola  joensuu  lappeenranta  mikkeli  vaasa  \n",
       "helsinki   225      124      373           203      211    370  \n",
       "espoo      211      134      381           215      217    359  \n",
       "tampere    106      171      335           240      186    210  \n",
       "vantaa     220      111      359           191      196    360  \n",
       "oulu       433      465      341           460      380    284  "
      ]
     },
     "execution_count": 4,
     "metadata": {},
     "output_type": "execute_result"
    }
   ],
   "source": [
    "dataframe.head(5)"
   ]
  },
  {
   "cell_type": "markdown",
   "metadata": {},
   "source": [
    "### CONVERT DF TO MATRIX"
   ]
  },
  {
   "cell_type": "code",
   "execution_count": 5,
   "metadata": {},
   "outputs": [],
   "source": [
    "matrix = utils.to_matrix(dataframe)"
   ]
  },
  {
   "cell_type": "code",
   "execution_count": 6,
   "metadata": {},
   "outputs": [
    {
     "data": {
      "text/plain": [
       "array([[  0,  16, 160,  15, 539, 150, 114,  99, 336, 225, 124, 373, 203,\n",
       "        211, 370],\n",
       "       [ 16,   0, 151,  24, 536, 134, 128, 103, 339, 211, 134, 381, 215,\n",
       "        217, 359],\n",
       "       [160, 151,   0, 150, 400, 142, 204, 116, 254, 106, 171, 335, 240,\n",
       "        186, 210],\n",
       "       [ 15,  24, 150,   0, 525, 153, 105,  84, 321, 220, 111, 359, 191,\n",
       "        196, 360],\n",
       "       [539, 536, 400, 525,   0, 533, 511, 448, 259, 433, 465, 341, 460,\n",
       "        380, 284],\n",
       "       [150, 134, 142, 153, 533,   0, 255, 194, 394, 118, 246, 463, 328,\n",
       "        302, 296],\n",
       "       [114, 128, 204, 105, 511, 255,   0,  89, 273, 299,  46, 281,  95,\n",
       "        137, 404],\n",
       "       [ 99, 103, 116,  84, 448, 194,  89,   0, 237, 215,  58, 281, 136,\n",
       "        116, 316],\n",
       "       [336, 339, 254, 321, 259, 394, 273, 237,   0, 343, 231, 111, 206,\n",
       "        135, 307],\n",
       "       [225, 211, 106, 220, 433, 118, 299, 215, 343,   0, 272, 434, 345,\n",
       "        291, 180],\n",
       "       [124, 134, 171, 111, 465, 246,  46,  58, 231, 272,   0, 251,  83,\n",
       "         96, 363],\n",
       "       [373, 381, 335, 359, 341, 463, 281, 281, 111, 434, 251,   0, 190,\n",
       "        164, 417],\n",
       "       [203, 215, 240, 191, 460, 328,  95, 136, 206, 345,  83, 190,   0,\n",
       "         85, 410],\n",
       "       [211, 217, 186, 196, 380, 302, 137, 116, 135, 291,  96, 164,  85,\n",
       "          0, 331],\n",
       "       [370, 359, 210, 360, 284, 296, 404, 316, 307, 180, 363, 417, 410,\n",
       "        331,   0]], dtype=int64)"
      ]
     },
     "execution_count": 6,
     "metadata": {},
     "output_type": "execute_result"
    }
   ],
   "source": [
    "matrix"
   ]
  },
  {
   "cell_type": "code",
   "execution_count": null,
   "metadata": {},
   "outputs": [],
   "source": []
  }
 ],
 "metadata": {
  "kernelspec": {
   "display_name": "Python 3",
   "language": "python",
   "name": "python3"
  },
  "language_info": {
   "codemirror_mode": {
    "name": "ipython",
    "version": 3
   },
   "file_extension": ".py",
   "mimetype": "text/x-python",
   "name": "python",
   "nbconvert_exporter": "python",
   "pygments_lexer": "ipython3",
   "version": "3.7.9"
  }
 },
 "nbformat": 4,
 "nbformat_minor": 4
}
